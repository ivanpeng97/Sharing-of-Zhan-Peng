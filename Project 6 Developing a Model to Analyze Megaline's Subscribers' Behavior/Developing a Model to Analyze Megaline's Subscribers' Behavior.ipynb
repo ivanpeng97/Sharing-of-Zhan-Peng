{
 "cells": [
  {
   "cell_type": "markdown",
   "metadata": {},
   "source": [
    "# Project Description\n",
    "\n",
    "Mobile carrier Megaline has found out that many of their subscribers use legacy plans. They want to develop a model that would analyze subscribers' behavior and recommend one of Megaline's newer plans: Smart or Ultra."
   ]
  },
  {
   "cell_type": "markdown",
   "metadata": {},
   "source": [
    "## 1. General View of the Behavior Data\n",
    "**Data description:**\n",
    "\n",
    "Every observation in the dataset contains monthly behavior information about one user. \n",
    "\n",
    "The information given is as follows:\n",
    "\n",
    "сalls — number of calls,\n",
    "\n",
    "minutes — total call duration in minutes, \n",
    "\n",
    "messages — number of text messages, \n",
    "\n",
    "mb_used — Internet traffic used in MB,\n",
    "\n",
    "is_ultra — plan for the current month (Ultra - 1, Smart - 0)."
   ]
  },
  {
   "cell_type": "code",
   "execution_count": 1,
   "metadata": {},
   "outputs": [],
   "source": [
    "# Import the packages\n",
    "import pandas as pd \n",
    "from sklearn.tree import DecisionTreeClassifier\n",
    "from sklearn.ensemble import RandomForestClassifier\n",
    "from sklearn.linear_model import LogisticRegression\n",
    "from sklearn.model_selection import train_test_split\n",
    "from sklearn.metrics import accuracy_score\n",
    "from sklearn.dummy import DummyClassifier\n",
    "from joblib import dump\n",
    "import warnings\n",
    "warnings.filterwarnings('ignore')"
   ]
  },
  {
   "cell_type": "code",
   "execution_count": 2,
   "metadata": {},
   "outputs": [
    {
     "data": {
      "text/html": [
       "<div>\n",
       "<style scoped>\n",
       "    .dataframe tbody tr th:only-of-type {\n",
       "        vertical-align: middle;\n",
       "    }\n",
       "\n",
       "    .dataframe tbody tr th {\n",
       "        vertical-align: top;\n",
       "    }\n",
       "\n",
       "    .dataframe thead th {\n",
       "        text-align: right;\n",
       "    }\n",
       "</style>\n",
       "<table border=\"1\" class=\"dataframe\">\n",
       "  <thead>\n",
       "    <tr style=\"text-align: right;\">\n",
       "      <th></th>\n",
       "      <th>calls</th>\n",
       "      <th>minutes</th>\n",
       "      <th>messages</th>\n",
       "      <th>mb_used</th>\n",
       "      <th>is_ultra</th>\n",
       "    </tr>\n",
       "  </thead>\n",
       "  <tbody>\n",
       "    <tr>\n",
       "      <th>0</th>\n",
       "      <td>40.0</td>\n",
       "      <td>311.90</td>\n",
       "      <td>83.0</td>\n",
       "      <td>19915.42</td>\n",
       "      <td>0</td>\n",
       "    </tr>\n",
       "    <tr>\n",
       "      <th>1</th>\n",
       "      <td>85.0</td>\n",
       "      <td>516.75</td>\n",
       "      <td>56.0</td>\n",
       "      <td>22696.96</td>\n",
       "      <td>0</td>\n",
       "    </tr>\n",
       "    <tr>\n",
       "      <th>2</th>\n",
       "      <td>77.0</td>\n",
       "      <td>467.66</td>\n",
       "      <td>86.0</td>\n",
       "      <td>21060.45</td>\n",
       "      <td>0</td>\n",
       "    </tr>\n",
       "    <tr>\n",
       "      <th>3</th>\n",
       "      <td>106.0</td>\n",
       "      <td>745.53</td>\n",
       "      <td>81.0</td>\n",
       "      <td>8437.39</td>\n",
       "      <td>1</td>\n",
       "    </tr>\n",
       "    <tr>\n",
       "      <th>4</th>\n",
       "      <td>66.0</td>\n",
       "      <td>418.74</td>\n",
       "      <td>1.0</td>\n",
       "      <td>14502.75</td>\n",
       "      <td>0</td>\n",
       "    </tr>\n",
       "  </tbody>\n",
       "</table>\n",
       "</div>"
      ],
      "text/plain": [
       "   calls  minutes  messages   mb_used  is_ultra\n",
       "0   40.0   311.90      83.0  19915.42         0\n",
       "1   85.0   516.75      56.0  22696.96         0\n",
       "2   77.0   467.66      86.0  21060.45         0\n",
       "3  106.0   745.53      81.0   8437.39         1\n",
       "4   66.0   418.74       1.0  14502.75         0"
      ]
     },
     "execution_count": 2,
     "metadata": {},
     "output_type": "execute_result"
    }
   ],
   "source": [
    "# Open the dataset\n",
    "data = pd.read_csv('users_behavior.csv')\n",
    "data.head()"
   ]
  },
  {
   "cell_type": "code",
   "execution_count": 3,
   "metadata": {},
   "outputs": [
    {
     "name": "stdout",
     "output_type": "stream",
     "text": [
      "<class 'pandas.core.frame.DataFrame'>\n",
      "RangeIndex: 3214 entries, 0 to 3213\n",
      "Data columns (total 5 columns):\n",
      " #   Column    Non-Null Count  Dtype  \n",
      "---  ------    --------------  -----  \n",
      " 0   calls     3214 non-null   float64\n",
      " 1   minutes   3214 non-null   float64\n",
      " 2   messages  3214 non-null   float64\n",
      " 3   mb_used   3214 non-null   float64\n",
      " 4   is_ultra  3214 non-null   int64  \n",
      "dtypes: float64(4), int64(1)\n",
      "memory usage: 125.7 KB\n"
     ]
    }
   ],
   "source": [
    "# Look at the Information\n",
    "data.info()"
   ]
  },
  {
   "cell_type": "code",
   "execution_count": 4,
   "metadata": {},
   "outputs": [
    {
     "data": {
      "text/plain": [
       "0"
      ]
     },
     "execution_count": 4,
     "metadata": {},
     "output_type": "execute_result"
    }
   ],
   "source": [
    "# No null values spotted\n",
    "# Check duplicates\n",
    "data.duplicated().sum()"
   ]
  },
  {
   "cell_type": "code",
   "execution_count": 5,
   "metadata": {},
   "outputs": [
    {
     "data": {
      "text/html": [
       "<div>\n",
       "<style scoped>\n",
       "    .dataframe tbody tr th:only-of-type {\n",
       "        vertical-align: middle;\n",
       "    }\n",
       "\n",
       "    .dataframe tbody tr th {\n",
       "        vertical-align: top;\n",
       "    }\n",
       "\n",
       "    .dataframe thead th {\n",
       "        text-align: right;\n",
       "    }\n",
       "</style>\n",
       "<table border=\"1\" class=\"dataframe\">\n",
       "  <thead>\n",
       "    <tr style=\"text-align: right;\">\n",
       "      <th></th>\n",
       "      <th>calls</th>\n",
       "      <th>minutes</th>\n",
       "      <th>messages</th>\n",
       "      <th>mb_used</th>\n",
       "      <th>is_ultra</th>\n",
       "    </tr>\n",
       "  </thead>\n",
       "  <tbody>\n",
       "    <tr>\n",
       "      <th>calls</th>\n",
       "      <td>1.000000</td>\n",
       "      <td>0.982083</td>\n",
       "      <td>0.177385</td>\n",
       "      <td>0.286442</td>\n",
       "      <td>0.207122</td>\n",
       "    </tr>\n",
       "    <tr>\n",
       "      <th>minutes</th>\n",
       "      <td>0.982083</td>\n",
       "      <td>1.000000</td>\n",
       "      <td>0.173110</td>\n",
       "      <td>0.280967</td>\n",
       "      <td>0.206955</td>\n",
       "    </tr>\n",
       "    <tr>\n",
       "      <th>messages</th>\n",
       "      <td>0.177385</td>\n",
       "      <td>0.173110</td>\n",
       "      <td>1.000000</td>\n",
       "      <td>0.195721</td>\n",
       "      <td>0.203830</td>\n",
       "    </tr>\n",
       "    <tr>\n",
       "      <th>mb_used</th>\n",
       "      <td>0.286442</td>\n",
       "      <td>0.280967</td>\n",
       "      <td>0.195721</td>\n",
       "      <td>1.000000</td>\n",
       "      <td>0.198568</td>\n",
       "    </tr>\n",
       "    <tr>\n",
       "      <th>is_ultra</th>\n",
       "      <td>0.207122</td>\n",
       "      <td>0.206955</td>\n",
       "      <td>0.203830</td>\n",
       "      <td>0.198568</td>\n",
       "      <td>1.000000</td>\n",
       "    </tr>\n",
       "  </tbody>\n",
       "</table>\n",
       "</div>"
      ],
      "text/plain": [
       "             calls   minutes  messages   mb_used  is_ultra\n",
       "calls     1.000000  0.982083  0.177385  0.286442  0.207122\n",
       "minutes   0.982083  1.000000  0.173110  0.280967  0.206955\n",
       "messages  0.177385  0.173110  1.000000  0.195721  0.203830\n",
       "mb_used   0.286442  0.280967  0.195721  1.000000  0.198568\n",
       "is_ultra  0.207122  0.206955  0.203830  0.198568  1.000000"
      ]
     },
     "execution_count": 5,
     "metadata": {},
     "output_type": "execute_result"
    }
   ],
   "source": [
    "# Check the correlations between the features\n",
    "data.corr()"
   ]
  },
  {
   "cell_type": "code",
   "execution_count": 6,
   "metadata": {},
   "outputs": [
    {
     "name": "stdout",
     "output_type": "stream",
     "text": [
      "<class 'pandas.core.frame.DataFrame'>\n",
      "RangeIndex: 3214 entries, 0 to 3213\n",
      "Data columns (total 4 columns):\n",
      " #   Column    Non-Null Count  Dtype  \n",
      "---  ------    --------------  -----  \n",
      " 0   minutes   3214 non-null   float64\n",
      " 1   messages  3214 non-null   float64\n",
      " 2   mb_used   3214 non-null   float64\n",
      " 3   is_ultra  3214 non-null   int64  \n",
      "dtypes: float64(3), int64(1)\n",
      "memory usage: 100.6 KB\n"
     ]
    }
   ],
   "source": [
    "# Since the correlation between calls and minutes is really strong, in order to simplify the data and make the models more \n",
    "# effective, we can drop one of these 2 columns\n",
    "data = data.drop(['calls'], axis = 1)\n",
    "data.info()"
   ]
  },
  {
   "cell_type": "markdown",
   "metadata": {},
   "source": [
    "## 2. Training, Testing and Validation Sets"
   ]
  },
  {
   "cell_type": "code",
   "execution_count": 7,
   "metadata": {},
   "outputs": [],
   "source": [
    "data_train_validation, data_test = train_test_split(data, test_size = 0.2, random_state = 12345)\n",
    "data_train, data_validation = train_test_split(data_train_validation, test_size = 0.25, random_state = 12345)"
   ]
  },
  {
   "cell_type": "code",
   "execution_count": 8,
   "metadata": {},
   "outputs": [
    {
     "name": "stdout",
     "output_type": "stream",
     "text": [
      "The size of training, testing and validation sets: 1928 643 643\n"
     ]
    }
   ],
   "source": [
    "print('The size of training, testing and validation sets:',len(data_train), len( data_test), len(data_validation))"
   ]
  },
  {
   "cell_type": "code",
   "execution_count": 9,
   "metadata": {},
   "outputs": [],
   "source": [
    "# Define features and target of the sets\n",
    "# Training set\n",
    "train_features = data_train.drop(['is_ultra'], axis=1)\n",
    "train_target = data_train['is_ultra']\n",
    "# Testing set\n",
    "test_features = data_test.drop(['is_ultra'], axis=1)\n",
    "test_target = data_test['is_ultra']\n",
    "# Validation set\n",
    "validation_features = data_validation.drop(['is_ultra'], axis=1)\n",
    "validation_target = data_validation['is_ultra']\n",
    "# Training + Validation\n",
    "train_validation_features = data_train_validation.drop(['is_ultra'], axis=1)\n",
    "train_validation_target = data_train_validation['is_ultra']"
   ]
  },
  {
   "cell_type": "markdown",
   "metadata": {},
   "source": [
    "**Description:**\n",
    "\n",
    "The data has been splitted into 3 datasets: *training, testing and validation*, which have a ratio of size as *3:1:1*."
   ]
  },
  {
   "cell_type": "markdown",
   "metadata": {},
   "source": [
    "## 3. Sanity Check"
   ]
  },
  {
   "cell_type": "code",
   "execution_count": 10,
   "metadata": {},
   "outputs": [
    {
     "data": {
      "text/plain": [
       "0    0.693528\n",
       "1    0.306472\n",
       "Name: is_ultra, dtype: float64"
      ]
     },
     "execution_count": 10,
     "metadata": {},
     "output_type": "execute_result"
    }
   ],
   "source": [
    "data['is_ultra'].value_counts(normalize=True)"
   ]
  },
  {
   "cell_type": "code",
   "execution_count": 11,
   "metadata": {},
   "outputs": [
    {
     "name": "stdout",
     "output_type": "stream",
     "text": [
      "dummy model: 0.6889580093312597\n"
     ]
    }
   ],
   "source": [
    "# Fit the dummy model to the training dataset\n",
    "dummy = DummyClassifier(strategy = 'constant', constant = 0)\n",
    "dummy.fit(train_features, train_target)\n",
    "# Test its accuracy with validation set\n",
    "validation_predictions = dummy.predict(validation_features)\n",
    "accuracy_dummy = accuracy_score(validation_target, validation_predictions)\n",
    "print('dummy model:', accuracy_dummy)"
   ]
  },
  {
   "cell_type": "code",
   "execution_count": 12,
   "metadata": {},
   "outputs": [
    {
     "name": "stdout",
     "output_type": "stream",
     "text": [
      "dummy model: 0.6951788491446346\n"
     ]
    }
   ],
   "source": [
    "# Test its accuracy with testing set\n",
    "dummy = DummyClassifier(strategy = 'constant', constant = 0)\n",
    "dummy.fit(train_validation_features, train_validation_target)\n",
    "test_predictions = dummy.predict(test_features)\n",
    "accuracy_dummy = accuracy_score(test_target, test_predictions)\n",
    "print('dummy model:', accuracy_dummy)"
   ]
  },
  {
   "cell_type": "markdown",
   "metadata": {},
   "source": [
    "**Description:**\n",
    "\n",
    "The **dummy** model using a *constant* strategy has an accuracy of **69.52%** based on test set, which is nearly the same as the proportion of 0 **(69.35%)** in the whole dataset.\n",
    "\n",
    "We can say that *the accuracy of the correct constant model is equal to a fraction of the larger class*."
   ]
  },
  {
   "cell_type": "markdown",
   "metadata": {},
   "source": [
    "## 4. Testing the Models"
   ]
  },
  {
   "cell_type": "markdown",
   "metadata": {},
   "source": [
    "### 4.1 DecisionTreeClassifier"
   ]
  },
  {
   "cell_type": "code",
   "execution_count": 13,
   "metadata": {},
   "outputs": [
    {
     "name": "stdout",
     "output_type": "stream",
     "text": [
      "max_depth = 1\n",
      "Accuracy based on validation set: 0.7387247278382582\n",
      "\n",
      "max_depth = 2\n",
      "Accuracy based on validation set: 0.7573872472783826\n",
      "\n",
      "max_depth = 3\n",
      "Accuracy based on validation set: 0.7651632970451011\n",
      "\n",
      "max_depth = 4\n",
      "Accuracy based on validation set: 0.7651632970451011\n",
      "\n",
      "max_depth = 5\n",
      "Accuracy based on validation set: 0.7667185069984448\n",
      "\n",
      "max_depth = 6\n",
      "Accuracy based on validation set: 0.7667185069984448\n",
      "\n",
      "max_depth = 7\n",
      "Accuracy based on validation set: 0.7682737169517885\n",
      "\n",
      "max_depth = 8\n",
      "Accuracy based on validation set: 0.7636080870917574\n",
      "\n",
      "max_depth = 9\n",
      "Accuracy based on validation set: 0.7573872472783826\n",
      "\n",
      "max_depth = 10\n",
      "Accuracy based on validation set: 0.76049766718507\n",
      "\n"
     ]
    }
   ],
   "source": [
    "# DecisionTreeClassifier\n",
    "for i in range(1, 11):\n",
    "    # Train the models of different max_depth values with training set\n",
    "    model = DecisionTreeClassifier(random_state = 12345, max_depth = i)\n",
    "    model.fit(train_features, train_target)\n",
    "    # check the models of different max_depth values with the validation set\n",
    "    validation_predictions = model.predict(validation_features)\n",
    "    accuracy = accuracy_score(validation_target, validation_predictions)\n",
    "    print('max_depth =', i)\n",
    "    print('Accuracy based on validation set:', accuracy)\n",
    "    print()"
   ]
  },
  {
   "cell_type": "code",
   "execution_count": 14,
   "metadata": {},
   "outputs": [
    {
     "name": "stdout",
     "output_type": "stream",
     "text": [
      "DecisionTreeClassifier: 0.776049766718507\n"
     ]
    }
   ],
   "source": [
    "# Choose max_depth = 7 as the final model to be tested\n",
    "model_DecisionTree =  DecisionTreeClassifier(random_state = 12345, max_depth = 7)\n",
    "model_DecisionTree.fit(train_validation_features, train_validation_target)\n",
    "# Test its accuracy with testing set\n",
    "test_predictions = model_DecisionTree.predict(test_features)\n",
    "accuracy_DecisionTree = accuracy_score(test_target, test_predictions)\n",
    "print('DecisionTreeClassifier:', accuracy_DecisionTree)"
   ]
  },
  {
   "cell_type": "markdown",
   "metadata": {},
   "source": [
    "**Description:**\n",
    "\n",
    "The **DecisionTreeClassifier** model with *max_depth = 7* has an accuracy of **77.60%** based on testing set."
   ]
  },
  {
   "cell_type": "markdown",
   "metadata": {},
   "source": [
    "### 4.2 RandomForestClassifier"
   ]
  },
  {
   "cell_type": "code",
   "execution_count": 15,
   "metadata": {},
   "outputs": [
    {
     "name": "stdout",
     "output_type": "stream",
     "text": [
      "n_estimators = 10\n",
      "Accuracy based on validation set: 0.7869362363919129\n",
      "\n",
      "n_estimators = 20\n",
      "Accuracy based on validation set: 0.7978227060653188\n",
      "\n",
      "n_estimators = 30\n",
      "Accuracy based on validation set: 0.7947122861586314\n",
      "\n",
      "n_estimators = 40\n",
      "Accuracy based on validation set: 0.7931570762052877\n",
      "\n",
      "n_estimators = 50\n",
      "Accuracy based on validation set: 0.7900466562986003\n",
      "\n",
      "n_estimators = 60\n",
      "Accuracy based on validation set: 0.7900466562986003\n",
      "\n",
      "n_estimators = 70\n",
      "Accuracy based on validation set: 0.7916018662519441\n",
      "\n",
      "n_estimators = 80\n",
      "Accuracy based on validation set: 0.7900466562986003\n",
      "\n",
      "n_estimators = 90\n",
      "Accuracy based on validation set: 0.7900466562986003\n",
      "\n",
      "n_estimators = 100\n",
      "Accuracy based on validation set: 0.7869362363919129\n",
      "\n"
     ]
    }
   ],
   "source": [
    "# RandomForestClassifier\n",
    "for i in range(1, 11):\n",
    "    # Train the models of different n_estimators values with training set\n",
    "    model = RandomForestClassifier(random_state = 12345, n_estimators = i * 10)\n",
    "    model.fit(train_features, train_target)\n",
    "    # check the models of different max_depth values with the validation set\n",
    "    validation_predictions = model.predict(validation_features)\n",
    "    accuracy = accuracy_score(validation_target, validation_predictions)\n",
    "    print('n_estimators =', i * 10)\n",
    "    print('Accuracy based on validation set:', accuracy)\n",
    "    print()"
   ]
  },
  {
   "cell_type": "code",
   "execution_count": 16,
   "metadata": {},
   "outputs": [
    {
     "name": "stdout",
     "output_type": "stream",
     "text": [
      "max_depth = 1\n",
      "Accuracy based on validation set: 0.7200622083981337\n",
      "\n",
      "max_depth = 2\n",
      "Accuracy based on validation set: 0.7713841368584758\n",
      "\n",
      "max_depth = 3\n",
      "Accuracy based on validation set: 0.7698289269051322\n",
      "\n",
      "max_depth = 4\n",
      "Accuracy based on validation set: 0.7729393468118196\n",
      "\n",
      "max_depth = 5\n",
      "Accuracy based on validation set: 0.7698289269051322\n",
      "\n",
      "max_depth = 6\n",
      "Accuracy based on validation set: 0.7838258164852255\n",
      "\n",
      "max_depth = 7\n",
      "Accuracy based on validation set: 0.7776049766718507\n",
      "\n",
      "max_depth = 8\n",
      "Accuracy based on validation set: 0.7869362363919129\n",
      "\n",
      "max_depth = 9\n",
      "Accuracy based on validation set: 0.7947122861586314\n",
      "\n",
      "max_depth = 10\n",
      "Accuracy based on validation set: 0.7947122861586314\n",
      "\n"
     ]
    }
   ],
   "source": [
    "# RandomForestClassifier\n",
    "# Specify the n_estimators = 20\n",
    "for i in range(1, 11):\n",
    "    # Train the models of different max_depth values with training set\n",
    "    model = RandomForestClassifier(random_state = 12345, n_estimators = 20, max_depth = i)\n",
    "    model.fit(train_features, train_target)\n",
    "    # check the models of different max_depth values with the validation set\n",
    "    validation_predictions = model.predict(validation_features)\n",
    "    accuracy = accuracy_score(validation_target, validation_predictions)\n",
    "    print('max_depth =', i)\n",
    "    print('Accuracy based on validation set:', accuracy)\n",
    "    print()"
   ]
  },
  {
   "cell_type": "code",
   "execution_count": 17,
   "metadata": {},
   "outputs": [
    {
     "name": "stdout",
     "output_type": "stream",
     "text": [
      "n_estimators = 20, max_depth = 9\n",
      "RandomForestClassifier: 0.7978227060653188\n",
      "n_estimators = 20, max_depth = 10\n",
      "RandomForestClassifier: 0.7884914463452566\n"
     ]
    }
   ],
   "source": [
    "# Choose n_estimators = 20, max_depth = 9 & 10 as the final models to be tested\n",
    "for i in [9, 10]:\n",
    "    model_RandomForest =  RandomForestClassifier(random_state = 12345, n_estimators = 20, max_depth = i)\n",
    "    model_RandomForest.fit(train_validation_features, train_validation_target)\n",
    "    # Test its accuracy with testing set\n",
    "    test_predictions = model_RandomForest.predict(test_features)\n",
    "    accuracy_RandomForest = accuracy_score(test_target, test_predictions)\n",
    "    print('n_estimators = 20, max_depth =', i)\n",
    "    print('RandomForestClassifier:', accuracy_RandomForest)"
   ]
  },
  {
   "cell_type": "markdown",
   "metadata": {},
   "source": [
    "**Description:**\n",
    "\n",
    "The **RandomForestClassifier** model with *n_estimators = 20* and *max_depth = 9* has an accuracy of **79.78%** based on testing set."
   ]
  },
  {
   "cell_type": "markdown",
   "metadata": {},
   "source": [
    "### 4.3 LogisticRegression"
   ]
  },
  {
   "cell_type": "code",
   "execution_count": 18,
   "metadata": {},
   "outputs": [
    {
     "name": "stdout",
     "output_type": "stream",
     "text": [
      "solver = newton-cg\n",
      "Accuracy based on validation set: 0.7262830482115086\n",
      "\n",
      "solver = lbfgs\n",
      "Accuracy based on validation set: 0.7262830482115086\n",
      "\n",
      "solver = liblinear\n",
      "Accuracy based on validation set: 0.7013996889580093\n",
      "\n",
      "solver = sag\n",
      "Accuracy based on validation set: 0.6920684292379471\n",
      "\n",
      "solver = saga\n",
      "Accuracy based on validation set: 0.6920684292379471\n",
      "\n"
     ]
    }
   ],
   "source": [
    "# LogisticRegression\n",
    "for method in ['newton-cg', 'lbfgs', 'liblinear', 'sag', 'saga']:\n",
    "    # Train the models of different solver values with training set\n",
    "    model = LogisticRegression(random_state = 12345, solver = method)\n",
    "    model.fit(train_features, train_target)\n",
    "    # check the models of different solver values with the validation set\n",
    "    validation_predictions = model.predict(validation_features)\n",
    "    accuracy = accuracy_score(validation_target, validation_predictions)\n",
    "    print('solver =', method)\n",
    "    print('Accuracy based on validation set:', accuracy)\n",
    "    print()"
   ]
  },
  {
   "cell_type": "code",
   "execution_count": 19,
   "metadata": {},
   "outputs": [
    {
     "name": "stdout",
     "output_type": "stream",
     "text": [
      "solver = newton-cg\n",
      "RandomForestClassifier: 0.76049766718507\n",
      "solver = lbfgs\n",
      "RandomForestClassifier: 0.76049766718507\n"
     ]
    }
   ],
   "source": [
    "# Choose solver = newton-cg and solver = lbfgs as the final models to be tested\n",
    "for method in ['newton-cg', 'lbfgs']:\n",
    "    model_LogisticRegression =  LogisticRegression(random_state = 12345, solver = method)\n",
    "    model_LogisticRegression.fit(train_validation_features, train_validation_target)\n",
    "    # Test its accuracy with testing set\n",
    "    test_predictions = model_LogisticRegression.predict(test_features)\n",
    "    accuracy_RandomForest = accuracy_score(test_target, test_predictions)\n",
    "    print('solver =', method)\n",
    "    print('RandomForestClassifier:', accuracy_RandomForest)"
   ]
  },
  {
   "cell_type": "markdown",
   "metadata": {},
   "source": [
    "**Description:**\n",
    "\n",
    "The **LogisticRegression** models with *solver = newton-cg or lbfgs* have an accuracy of **76.05%** based on testing set."
   ]
  },
  {
   "cell_type": "markdown",
   "metadata": {},
   "source": [
    "## 5. Save the Model with the highest Accuracy\n",
    "\n",
    "The **RandomForestClassifier** model with *n_estimators = 20* and *max_depth = 9* has the highest accuracy based on testing set among all the models studied."
   ]
  },
  {
   "cell_type": "code",
   "execution_count": 20,
   "metadata": {},
   "outputs": [
    {
     "data": {
      "text/plain": [
       "['model_RandomForest.joblib']"
      ]
     },
     "execution_count": 20,
     "metadata": {},
     "output_type": "execute_result"
    }
   ],
   "source": [
    "# Save model\n",
    "model_RandomForest =  RandomForestClassifier(random_state = 12345, n_estimators = 20, max_depth = 9)\n",
    "model_RandomForest.fit(train_validation_features, train_validation_target)\n",
    "dump(model_RandomForest, 'model_RandomForest.joblib')"
   ]
  },
  {
   "cell_type": "markdown",
   "metadata": {},
   "source": [
    "## 6. Conclusion\n",
    "\n",
    "1. **DecisionTreeClassifier**, **RandomForestClassifier** and **LogisticRegression** are the 3 models to be tested using different parameters.\n",
    "\n",
    "2. The sanity of the dataset was tested with **dummy** model using a *constant* strategy, which shows that the dataset is proper for the test.\n",
    "\n",
    "3. The **RandomForestClassifier** model with *n_estimators = 20* and *max_depth = 9* has the highest accuracy *(79.78%)*."
   ]
  }
 ],
 "metadata": {
  "kernelspec": {
   "display_name": "Python 3",
   "language": "python",
   "name": "python3"
  },
  "language_info": {
   "codemirror_mode": {
    "name": "ipython",
    "version": 3
   },
   "file_extension": ".py",
   "mimetype": "text/x-python",
   "name": "python",
   "nbconvert_exporter": "python",
   "pygments_lexer": "ipython3",
   "version": "3.8.3"
  }
 },
 "nbformat": 4,
 "nbformat_minor": 4
}
