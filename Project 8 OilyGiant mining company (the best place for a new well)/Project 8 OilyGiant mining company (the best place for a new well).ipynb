{
 "cells": [
  {
   "cell_type": "markdown",
   "metadata": {},
   "source": [
    "# Project Description\n",
    "\n",
    "The task is to find the best place for a new well for the OilyGiant mining company.\n",
    "\n",
    "**Steps to choose the location:**\n",
    "\n",
    "1. Collect the oil well parameters in the selected region: oil quality and volume of reserves;\n",
    "\n",
    "2. Build a model for predicting the volume of reserves in the new wells; \n",
    "\n",
    "3. Pick the oil wells with the highest estimated values;\n",
    "\n",
    "4. Pick the region with the highest total profit for the selected oil wells.\n",
    "\n",
    "**Data description:**\n",
    "\n",
    "1. Geological exploration data for the three regions are stored in files:\n",
    "\n",
    "    *geo_data_0.csv, geo_data_1.csv ,geo_data_2.csv* \n",
    "\n",
    "2. Columns in the datasets\n",
    "\n",
    "    *id* — unique oil well identifier\n",
    "\n",
    "    *f0, f1, f2* — three features of points (their specific meaning is unimportant, but the features themselves are significant)\n",
    "\n",
    "    *product* — volume of reserves in the oil well (thousand barrels)\n",
    "\n",
    "**Conditions:**\n",
    "\n",
    "1. Only *linear regression* is suitable for model training (the rest are not sufficiently predictable).\n",
    "\n",
    "2. When exploring the region, a study of 500 points is carried with picking the best 200 points for the profit calculation.\n",
    "\n",
    "3. The budget for oil well development is *100 USD million*.\n",
    "\n",
    "4. One barrel of raw materials brings 4.5 USD of revenue. The revenue from one unit of product is *4,500 dollars* (volume of reserves is in thousand barrels).\n",
    "\n",
    "5. After the risk evaluation, keep only the regions with the risk of losses *lower than 2.5%*. From the ones that fit the criteria, the region with the highest average profit should be selected."
   ]
  },
  {
   "cell_type": "markdown",
   "metadata": {},
   "source": [
    "## 1. Data Processing"
   ]
  },
  {
   "cell_type": "code",
   "execution_count": 1,
   "metadata": {},
   "outputs": [],
   "source": [
    "# Necessary Packages \n",
    "import pandas as pd\n",
    "from sklearn.linear_model import LinearRegression\n",
    "from sklearn.model_selection import train_test_split\n",
    "from sklearn.metrics import mean_squared_error\n",
    "import numpy as np\n",
    "from numpy.random import RandomState\n",
    "state = RandomState(12345)\n",
    "import matplotlib.pyplot as plt\n",
    "import warnings\n",
    "warnings.filterwarnings('ignore')"
   ]
  },
  {
   "cell_type": "code",
   "execution_count": 2,
   "metadata": {},
   "outputs": [],
   "source": [
    "# Open the datasets\n",
    "try:\n",
    "    data_1 = pd.read_csv('geo_data_0.csv')\n",
    "    data_2 = pd.read_csv('geo_data_1.csv')\n",
    "    data_3 = pd.read_csv('geo_data_2.csv')\n",
    "except:\n",
    "    data_1 = pd.read_csv('/datasets/geo_data_0.csv')\n",
    "    data_2 = pd.read_csv('/datasets/geo_data_1.csv')\n",
    "    data_3 = pd.read_csv('/datasets/geo_data_2.csv')"
   ]
  },
  {
   "cell_type": "code",
   "execution_count": 3,
   "metadata": {},
   "outputs": [
    {
     "name": "stdout",
     "output_type": "stream",
     "text": [
      "Region 1\n",
      "\n",
      "<class 'pandas.core.frame.DataFrame'>\n",
      "RangeIndex: 100000 entries, 0 to 99999\n",
      "Data columns (total 5 columns):\n",
      " #   Column   Non-Null Count   Dtype  \n",
      "---  ------   --------------   -----  \n",
      " 0   id       100000 non-null  object \n",
      " 1   f0       100000 non-null  float64\n",
      " 2   f1       100000 non-null  float64\n",
      " 3   f2       100000 non-null  float64\n",
      " 4   product  100000 non-null  float64\n",
      "dtypes: float64(4), object(1)\n",
      "memory usage: 3.8+ MB\n",
      "None\n",
      "\n",
      "                  f0             f1             f2        product\n",
      "count  100000.000000  100000.000000  100000.000000  100000.000000\n",
      "mean        0.500419       0.250143       2.502647      92.500000\n",
      "std         0.871832       0.504433       3.248248      44.288691\n",
      "min        -1.408605      -0.848218     -12.088328       0.000000\n",
      "25%        -0.072580      -0.200881       0.287748      56.497507\n",
      "50%         0.502360       0.250252       2.515969      91.849972\n",
      "75%         1.073581       0.700646       4.715088     128.564089\n",
      "max         2.362331       1.343769      16.003790     185.364347\n",
      "\n",
      "Number of duplicates: 0\n",
      "\n",
      "Region 2\n",
      "\n",
      "<class 'pandas.core.frame.DataFrame'>\n",
      "RangeIndex: 100000 entries, 0 to 99999\n",
      "Data columns (total 5 columns):\n",
      " #   Column   Non-Null Count   Dtype  \n",
      "---  ------   --------------   -----  \n",
      " 0   id       100000 non-null  object \n",
      " 1   f0       100000 non-null  float64\n",
      " 2   f1       100000 non-null  float64\n",
      " 3   f2       100000 non-null  float64\n",
      " 4   product  100000 non-null  float64\n",
      "dtypes: float64(4), object(1)\n",
      "memory usage: 3.8+ MB\n",
      "None\n",
      "\n",
      "                  f0             f1             f2        product\n",
      "count  100000.000000  100000.000000  100000.000000  100000.000000\n",
      "mean        1.141296      -4.796579       2.494541      68.825000\n",
      "std         8.965932       5.119872       1.703572      45.944423\n",
      "min       -31.609576     -26.358598      -0.018144       0.000000\n",
      "25%        -6.298551      -8.267985       1.000021      26.953261\n",
      "50%         1.153055      -4.813172       2.011479      57.085625\n",
      "75%         8.621015      -1.332816       3.999904     107.813044\n",
      "max        29.421755      18.734063       5.019721     137.945408\n",
      "\n",
      "Number of duplicates: 0\n",
      "\n",
      "Region 3\n",
      "\n",
      "<class 'pandas.core.frame.DataFrame'>\n",
      "RangeIndex: 100000 entries, 0 to 99999\n",
      "Data columns (total 5 columns):\n",
      " #   Column   Non-Null Count   Dtype  \n",
      "---  ------   --------------   -----  \n",
      " 0   id       100000 non-null  object \n",
      " 1   f0       100000 non-null  float64\n",
      " 2   f1       100000 non-null  float64\n",
      " 3   f2       100000 non-null  float64\n",
      " 4   product  100000 non-null  float64\n",
      "dtypes: float64(4), object(1)\n",
      "memory usage: 3.8+ MB\n",
      "None\n",
      "\n",
      "                  f0             f1             f2        product\n",
      "count  100000.000000  100000.000000  100000.000000  100000.000000\n",
      "mean        0.002023      -0.002081       2.495128      95.000000\n",
      "std         1.732045       1.730417       3.473445      44.749921\n",
      "min        -8.760004      -7.084020     -11.970335       0.000000\n",
      "25%        -1.162288      -1.174820       0.130359      59.450441\n",
      "50%         0.009424      -0.009482       2.484236      94.925613\n",
      "75%         1.158535       1.163678       4.858794     130.595027\n",
      "max         7.238262       7.844801      16.739402     190.029838\n",
      "\n",
      "Number of duplicates: 0\n",
      "\n"
     ]
    }
   ],
   "source": [
    "# Study the datasets\n",
    "for data,i in zip([data_1, data_2, data_3], range(3)):\n",
    "    print('Region', i + 1)\n",
    "    print()\n",
    "    print(data.info())\n",
    "    print()\n",
    "    print(data.describe())\n",
    "    print()\n",
    "    print('Number of duplicates:',data.duplicated().sum())\n",
    "    print()"
   ]
  },
  {
   "cell_type": "code",
   "execution_count": 4,
   "metadata": {},
   "outputs": [
    {
     "data": {
      "image/png": "[encoded data removed]",
      "text/plain": [
       "<Figure size 432x288 with 1 Axes>"
      ]
     },
     "metadata": {
      "needs_background": "light"
     },
     "output_type": "display_data"
    },
    {
     "data": {
      "image/png": "[encoded data removed]",
      "text/plain": [
       "<Figure size 432x288 with 1 Axes>"
      ]
     },
     "metadata": {
      "needs_background": "light"
     },
     "output_type": "display_data"
    },
    {
     "data": {
      "image/png": "[encoded data removed]",
      "text/plain": [
       "<Figure size 432x288 with 1 Axes>"
      ]
     },
     "metadata": {
      "needs_background": "light"
     },
     "output_type": "display_data"
    }
   ],
   "source": [
    "# Target future\n",
    "for data,i in zip([data_1, data_2, data_3], range(3)):\n",
    "    plt.hist(data['product'], bins = 500)\n",
    "    plt.title('Region' + str(i + 1))\n",
    "    plt.show()"
   ]
  },
  {
   "cell_type": "markdown",
   "metadata": {},
   "source": [
    "**Descriptions:**\n",
    "\n",
    "1. Each of the datasets has 4 columns, except the *id*, other ones are nummeric and can be directly used as features and target in machine learning models.\n",
    "\n",
    "2. No duplicates are spotted in the datasets.\n",
    "\n",
    "3. There is no missing value in all the datasets.\n",
    "\n",
    "4. The distribution of target feature of region 2 is very distinct and different from those of the other 2 regions. The distributions of the target feature in region 1 and 3 are more close to normal distribution."
   ]
  },
  {
   "cell_type": "markdown",
   "metadata": {},
   "source": [
    "## 2. Train and test the model for each region"
   ]
  },
  {
   "cell_type": "code",
   "execution_count": 5,
   "metadata": {},
   "outputs": [],
   "source": [
    "data_all = [\n",
    "    data_1.drop('id', axis=1),\n",
    "    data_2.drop('id', axis=1),\n",
    "    data_3.drop('id', axis=1),\n",
    "]"
   ]
  },
  {
   "cell_type": "code",
   "execution_count": 6,
   "metadata": {},
   "outputs": [
    {
     "name": "stdout",
     "output_type": "stream",
     "text": [
      "-- Region 1 --\n",
      "Average amount of product = 92.49999999999976\n",
      "RMSE of the model: 37.5794217150813\n",
      "\n",
      "-- Region 2 --\n",
      "Average amount of product = 68.82500000002561\n",
      "RMSE of the model: 0.8897367737680641\n",
      "\n",
      "-- Region 3 --\n",
      "Average amount of product = 95.00000000000041\n",
      "RMSE of the model: 39.958042459521614\n",
      "\n"
     ]
    }
   ],
   "source": [
    "state = np.random.RandomState(12345)\n",
    "\n",
    "samples_target = []\n",
    "samples_predictions = []\n",
    "for region in range(len(data_all)):\n",
    "    data = data_all[region]\n",
    "    features = data.drop('product', axis=1)\n",
    "    target = data['product']\n",
    "    \n",
    "    features_train, features_valid, target_train, target_valid = train_test_split(\n",
    "        features, target, test_size=0.25, random_state=state)\n",
    "    \n",
    "    model = LinearRegression()\n",
    "    model.fit(features_train, target_train)\n",
    "    predictions = model.predict(features_valid)\n",
    "    \n",
    "    samples_target.append(target_valid.reset_index(drop=True))\n",
    "    samples_predictions.append(pd.Series(predictions))\n",
    "    \n",
    "    mean_product = target.mean()\n",
    "    model_rmse = mean_squared_error(target_valid, predictions)**0.5\n",
    "    \n",
    "    print(\"-- Region\", region + 1, \"--\")\n",
    "    print(\"Average amount of product =\", mean_product)\n",
    "    print(\"RMSE of the model:\", model_rmse)\n",
    "    print(\"Score:\", model.score())\n",
    "    print()"
   ]
  },
  {
   "cell_type": "markdown",
   "metadata": {},
   "source": [
    "**Description:**\n",
    "\n",
    "1. The linear model fits the dataset of region 2 much better than the other 2 regions, it has the lowerst RMSE value.\n",
    "\n",
    "2. The predicted mean of region 3 is the highest."
   ]
  },
  {
   "cell_type": "markdown",
   "metadata": {},
   "source": [
    "## 3. Profit calculation"
   ]
  },
  {
   "cell_type": "code",
   "execution_count": 7,
   "metadata": {},
   "outputs": [],
   "source": [
    "BUDGET = 100000000\n",
    "POINTS_PER_BUDGET = 200\n",
    "\n",
    "PRODUCT_PRICE = 4500\n",
    "\n",
    "\n",
    "def profit(target, predictions):\n",
    "    predictions_sorted = predictions.sort_values(ascending=False)\n",
    "    selected_points = target[predictions_sorted.index][:POINTS_PER_BUDGET]\n",
    "    product = selected_points.sum()\n",
    "    revenue = product * PRODUCT_PRICE\n",
    "    cost = BUDGET\n",
    "    return revenue - cost"
   ]
  },
  {
   "cell_type": "code",
   "execution_count": 8,
   "metadata": {},
   "outputs": [
    {
     "name": "stdout",
     "output_type": "stream",
     "text": [
      "Region 1\n",
      "Profit: 33.21 Million $\n",
      "\n",
      "Region 2\n",
      "Profit: 24.15 Million $\n",
      "\n",
      "Region 3\n",
      "Profit: 25.40 Million $\n",
      "\n"
     ]
    }
   ],
   "source": [
    "for j in range(3):\n",
    "    profit_ = profit(samples_target[j], samples_predictions[j])\n",
    "    print('Region {:}'.format(j + 1))\n",
    "    print('Profit: {:.2f} Million $'.format(profit_ / 1000000))\n",
    "    print()"
   ]
  },
  {
   "cell_type": "markdown",
   "metadata": {},
   "source": [
    "**Descriptions:**\n",
    "\n",
    "1. The volume (111 thousand barrels) of reserves sufficient for developing a new well without losses is much higher than the average volumnes in the 3 regions.\n",
    "\n",
    "2. Except region 1, the plan to open 200 wells in the other 2 regions are likely to suffer from loss."
   ]
  },
  {
   "cell_type": "markdown",
   "metadata": {},
   "source": [
    "## 4. Calculate risks and profit for each region"
   ]
  },
  {
   "cell_type": "code",
   "execution_count": 9,
   "metadata": {},
   "outputs": [
    {
     "name": "stdout",
     "output_type": "stream",
     "text": [
      "-- Region 1 --\n",
      "Average profit = 4.238972379169054\n",
      "95% confidence interval: (-0.7618781389036369, 95.78465319517836)\n",
      "Risk of loss: 4.8 %\n",
      "\n",
      "-- Region 2 --\n",
      "Average profit = 5.1325669891726085\n",
      "95% confidence interval: (1.0806689523396174, 92.85744392324952)\n",
      "Risk of loss: 0.6 %\n",
      "\n",
      "-- Region 3 --\n",
      "Average profit = 3.811203595759016\n",
      "95% confidence interval: (-1.428006300878686, 89.33805657503996)\n",
      "Risk of loss: 7.3999999999999995 %\n",
      "\n"
     ]
    }
   ],
   "source": [
    "SAMPLE_SIZE = 500\n",
    "BOOTSTRAP_SIZE = 1000\n",
    "\n",
    "for region in range(3):\n",
    "    target = samples_target[region]\n",
    "    predictions = samples_predictions[region]\n",
    "    \n",
    "    profit_values = []\n",
    "    for i in range(BOOTSTRAP_SIZE):\n",
    "        target_sample = target.sample(SAMPLE_SIZE, replace=True, random_state=state)\n",
    "        predictions_sample = predictions[target_sample.index]\n",
    "        profit_values.append(profit(target_sample, predictions_sample))\n",
    "    profit_values = pd.Series(profit_values)\n",
    "        \n",
    "    mean_profit = profit_values.mean() / 1000000\n",
    "    confidence_interval = (profit_values.quantile(0.025) / 1000000, profit_values.quantile(0.975) / 100000)\n",
    "    negative_profit_chance = (profit_values < 0).mean()\n",
    "    \n",
    "    print(\"-- Region\", region + 1, \"--\")\n",
    "    print(\"Average profit =\", mean_profit)\n",
    "    print(\"95% confidence interval:\", confidence_interval)\n",
    "    print(\"Risk of loss:\", negative_profit_chance * 100, \"%\")\n",
    "    print()"
   ]
  },
  {
   "cell_type": "markdown",
   "metadata": {},
   "source": [
    "**Descriptions:**\n",
    "\n",
    "According to the result above, region 2 has lowest possbility to generate a negative profit among all regions, and the predicted average profit of region 2 is also the highest. "
   ]
  },
  {
   "cell_type": "markdown",
   "metadata": {},
   "source": [
    "## 5. Conclusions:\n",
    "\n",
    "1. Linear regression model fits well only with the dataset of region 2, since it has a lowest RMSE value.\n",
    "\n",
    "2. Region 2 should be chosen to develop new wells since it is the region that is most likely to generate a positive profit. \n",
    "\n",
    "3. Due to the low score of our machine learning model, the conclusions above might have a serious flaw in its accuracy. "
   ]
  }
 ],
 "metadata": {
  "kernelspec": {
   "display_name": "Python 3",
   "language": "python",
   "name": "python3"
  },
  "language_info": {
   "codemirror_mode": {
    "name": "ipython",
    "version": 3
   },
   "file_extension": ".py",
   "mimetype": "text/x-python",
   "name": "python",
   "nbconvert_exporter": "python",
   "pygments_lexer": "ipython3",
   "version": "3.8.3"
  }
 },
 "nbformat": 4,
 "nbformat_minor": 4
}
